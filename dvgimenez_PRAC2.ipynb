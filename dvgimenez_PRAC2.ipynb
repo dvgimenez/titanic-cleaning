{
 "cells": [
  {
   "cell_type": "code",
   "execution_count": 6,
   "metadata": {},
   "outputs": [],
   "source": [
    "import pandas as pd\n",
    "import numpy as np\n",
    "import matplotlib.pyplot as plt\n",
    "import scipy.stats\n",
    "from sklearn import datasets, linear_model\n",
    "from sklearn.metrics import mean_squared_error, confusion_matrix, accuracy_score"
   ]
  },
  {
   "cell_type": "code",
   "execution_count": 7,
   "metadata": {
    "scrolled": true
   },
   "outputs": [],
   "source": [
    "# Càrrega del dataset.\n",
    "data = pd.read_csv(\"train_titanic.csv\")"
   ]
  },
  {
   "cell_type": "markdown",
   "metadata": {},
   "source": [
    "# 2. Integració i selecció de les dades d’interès a analitzar"
   ]
  },
  {
   "cell_type": "code",
   "execution_count": 8,
   "metadata": {},
   "outputs": [],
   "source": [
    "# Variables importants:\n",
    "# SURVIVED\n",
    "# PCLASS\n",
    "# SEX\n",
    "# AGE\n",
    "# EMBARKED\n",
    "# FARE\n",
    "data_vars = data[[\"Pclass\",\"Sex\",\"Age\",\"Embarked\", \"Fare\",\"Survived\"]]"
   ]
  },
  {
   "cell_type": "markdown",
   "metadata": {},
   "source": [
    "# 3. Neteja de les dades"
   ]
  },
  {
   "cell_type": "markdown",
   "metadata": {},
   "source": [
    "## 3.1. Les dades contenen zeros o elements buits? Com gestionaries aquests casos?"
   ]
  },
  {
   "cell_type": "code",
   "execution_count": 9,
   "metadata": {},
   "outputs": [
    {
     "name": "stdout",
     "output_type": "stream",
     "text": [
      "La variable Pclass conté 0 valors nuls\n",
      "La variable Sex conté 0 valors nuls\n",
      "La variable Age conté 177 valors nuls\n",
      "La variable Embarked conté 2 valors nuls\n",
      "La variable Fare conté 0 valors nuls\n",
      "La variable Survived conté 0 valors nuls\n"
     ]
    }
   ],
   "source": [
    "# Recompte de valors nuls.\n",
    "for var in data_vars:\n",
    "    print(\"La variable\",var,\"conté\",data_vars[var].isna().sum(),\"valors nuls\")"
   ]
  },
  {
   "cell_type": "code",
   "execution_count": 10,
   "metadata": {},
   "outputs": [
    {
     "name": "stderr",
     "output_type": "stream",
     "text": [
      "C:\\Users\\VilaGras\\Anaconda3\\lib\\site-packages\\pandas\\core\\generic.py:5430: SettingWithCopyWarning: \n",
      "A value is trying to be set on a copy of a slice from a DataFrame\n",
      "\n",
      "See the caveats in the documentation: http://pandas.pydata.org/pandas-docs/stable/indexing.html#indexing-view-versus-copy\n",
      "  self._update_inplace(new_data)\n"
     ]
    }
   ],
   "source": [
    "# Reomplim els NA a partir de la mediana de les edats per Sexe.\n",
    "data_vars['Age'].fillna(data_vars.groupby('Sex')['Age'].transform(\"median\"), inplace=True)\n",
    "# Elimino les dues observacions amb NA de \"Embarked\"\n",
    "data_vars = data_vars.dropna()"
   ]
  },
  {
   "cell_type": "markdown",
   "metadata": {},
   "source": [
    "## 3.2. Conversió de valors (punt afegit)"
   ]
  },
  {
   "cell_type": "code",
   "execution_count": 11,
   "metadata": {},
   "outputs": [],
   "source": [
    "#Conversió \"male\" - \"famale\" en enters:\n",
    "data_clean = data_vars.replace(\"female\",2)\n",
    "data_clean = data_clean.replace(\"male\", 1)\n",
    "\n",
    "# Conversió dels tres valors d'embarked:\n",
    "data_clean[\"Embarked\"] = data_clean[\"Embarked\"].replace(\"C\", 1)\n",
    "data_clean[\"Embarked\"] = data_clean[\"Embarked\"].replace(\"Q\", 2)\n",
    "data_clean[\"Embarked\"] = data_clean[\"Embarked\"].replace(\"S\", 3)\n",
    "\n",
    "# Conversió de \"Age\" a enters:\n",
    "data_clean[\"Age\"] = data_clean[\"Age\"].round().astype(int)"
   ]
  },
  {
   "cell_type": "markdown",
   "metadata": {},
   "source": [
    "## 3.3. Identificació i tractament de valors extrems"
   ]
  },
  {
   "cell_type": "code",
   "execution_count": 12,
   "metadata": {},
   "outputs": [
    {
     "name": "stdout",
     "output_type": "stream",
     "text": [
      "           Pclass         Sex         Age    Embarked        Fare    Survived\n",
      "count  889.000000  889.000000  889.000000  889.000000  889.000000  889.000000\n",
      "mean     2.311586    1.350956   29.390326    2.535433   32.096681    0.382452\n",
      "std      0.834700    0.477538   12.982384    0.792088   49.697504    0.486260\n",
      "min      1.000000    1.000000    0.000000    1.000000    0.000000    0.000000\n",
      "25%      2.000000    1.000000   22.000000    2.000000    7.895800    0.000000\n",
      "50%      3.000000    1.000000   29.000000    3.000000   14.454200    0.000000\n",
      "75%      3.000000    2.000000   35.000000    3.000000   31.000000    1.000000\n",
      "max      3.000000    2.000000   80.000000    3.000000  512.329200    1.000000\n"
     ]
    }
   ],
   "source": [
    "# Valors extrems\n",
    "print(data_clean.describe())"
   ]
  },
  {
   "cell_type": "markdown",
   "metadata": {},
   "source": [
    "## 3.4. Emmagatzemar dataframe net (punt afegit)"
   ]
  },
  {
   "cell_type": "code",
   "execution_count": 13,
   "metadata": {},
   "outputs": [],
   "source": [
    "# Guardo el dataset net:\n",
    "data_clean.to_csv(\"data_clean.csv\")"
   ]
  },
  {
   "cell_type": "markdown",
   "metadata": {},
   "source": [
    "# 4. ANÀLISI DE LES DADES"
   ]
  },
  {
   "cell_type": "code",
   "execution_count": 14,
   "metadata": {},
   "outputs": [],
   "source": [
    "# Càrrega del dataset.\n",
    "col = [\"Pclass\", \"Sex\", \"Age\", \"Embarked\", \"Fare\", \"Survived\"]\n",
    "data = pd.read_csv(\"data_clean.csv\", usecols = col )"
   ]
  },
  {
   "cell_type": "markdown",
   "metadata": {},
   "source": [
    "## 4.1. Selecció dels grups de dades que es volen analitzar/comparar"
   ]
  },
  {
   "cell_type": "code",
   "execution_count": 15,
   "metadata": {},
   "outputs": [],
   "source": [
    "# Agrupacions per Sexe i Classe\n",
    "female = data.loc[data['Sex'] == 2]\n",
    "male = data.loc[data['Sex'] == 1]\n",
    "upper = data.loc[data['Pclass'] == 1]\n",
    "middle = data.loc[data['Pclass'] == 2]\n",
    "lower = data.loc[data['Pclass'] == 3]"
   ]
  },
  {
   "cell_type": "markdown",
   "metadata": {},
   "source": [
    "## 4.2. Comprovació de la normalitat i homogeneïtat de la variància"
   ]
  },
  {
   "cell_type": "code",
   "execution_count": 16,
   "metadata": {},
   "outputs": [
    {
     "name": "stdout",
     "output_type": "stream",
     "text": [
      "El p-value de la variable Pclass és 0.783 i el estadístic és 110.07359556722486\n",
      "El p-value de la variable Sex és 0.783 i el estadístic és 178.57044801344568\n",
      "El p-value de la variable Age és 0.783 i el estadístic és 15.177390367849057\n",
      "El p-value de la variable Embarked és 0.783 i el estadístic és 182.60119840206448\n",
      "El p-value de la variable Fare és 0.783 i el estadístic és 122.80816188550375\n",
      "El p-value de la variable Survived és 0.783 i el estadístic és 171.3628439667541\n"
     ]
    }
   ],
   "source": [
    "# Revisem normalitat (Prova de normalitat Anderson-Darling).\n",
    "# Si p-value > 0.5, implica distribució normal.\n",
    "for var in data:\n",
    "    res = scipy.stats.anderson(data[var])\n",
    "    print(\"El p-value de la variable\",var,\"és\",res[1][2], \"i el estadístic és\",res[0])"
   ]
  },
  {
   "cell_type": "code",
   "execution_count": 17,
   "metadata": {},
   "outputs": [
    {
     "name": "stdout",
     "output_type": "stream",
     "text": [
      "LeveneResult(statistic=6.052073198971666, pvalue=0.014079700102452174)\n",
      "LeveneResult(statistic=18.743249946154936, pvalue=1.0651350809216878e-08)\n",
      "LeveneResult(statistic=3.6101502536808128, pvalue=0.027446419795460055)\n"
     ]
    }
   ],
   "source": [
    "# Test de Levene per analitzar la homogeneïtat de la variància.\n",
    "hom_sex = scipy.stats.levene(data[\"Survived\"][data[\"Sex\"]==1],\n",
    "                  data[\"Survived\"][data[\"Sex\"]==2])\n",
    "\n",
    "hom_class = scipy.stats.levene(data[\"Survived\"][data[\"Pclass\"]==1],\n",
    "                  data[\"Survived\"][data[\"Pclass\"]==2],\n",
    "                  data[\"Survived\"][data[\"Pclass\"]==3])\n",
    "\n",
    "hom_emb = scipy.stats.levene(data[\"Survived\"][data[\"Embarked\"]==1],\n",
    "                  data[\"Survived\"][data[\"Embarked\"]==2],\n",
    "                  data[\"Survived\"][data[\"Embarked\"]==3])\n",
    "\n",
    "print(hom_sex)\n",
    "print(hom_class)\n",
    "print(hom_emb)\n",
    "# p-value < 0.05 --> rebuig hipòtesi nul·la --> diferència entre variàncies."
   ]
  },
  {
   "cell_type": "markdown",
   "metadata": {},
   "source": [
    "# 4.3. Aplicació de proves estadístiques per comparar els grups de dades. En funció de les dades i de l’objectiu de l’estudi, aplicar proves de contrast d’hipòtesis, correlacions, regressions, etc."
   ]
  },
  {
   "cell_type": "code",
   "execution_count": 18,
   "metadata": {},
   "outputs": [
    {
     "name": "stdout",
     "output_type": "stream",
     "text": [
      "            Pclass       Sex       Age  Embarked      Fare  Survived\n",
      "Pclass    1.000000 -0.127741 -0.335053  0.164681 -0.548193 -0.335549\n",
      "Sex      -0.127741  1.000000 -0.100592 -0.110320  0.179958  0.541585\n",
      "Age      -0.335053 -0.100592  1.000000 -0.020347  0.091372 -0.077904\n",
      "Embarked  0.164681 -0.110320 -0.020347  1.000000 -0.226311 -0.169718\n",
      "Fare     -0.548193  0.179958  0.091372 -0.226311  1.000000  0.255290\n",
      "Survived -0.335549  0.541585 -0.077904 -0.169718  0.255290  1.000000\n"
     ]
    }
   ],
   "source": [
    "# Correlació entre variables.\n",
    "corr = data.corr()\n",
    "print(corr)"
   ]
  },
  {
   "cell_type": "code",
   "execution_count": 19,
   "metadata": {},
   "outputs": [],
   "source": [
    "# Regressió lineal.\n",
    "# Creo 3 models:\n",
    "#   1 - Amb totes les variables triades.\n",
    "#   2 - Amb les variables més importants segons l'estudi de correlació: Sex, Fare i Age\n",
    "#   3-  Amb la variable amb màxima correlació: Sex\n",
    "\n",
    "def reg_lin(data_X, data_Y):\n",
    "    data_X_train = data_X[:-200]\n",
    "    data_Y_train = data_Y[:-200]\n",
    "\n",
    "    data_X_test = data_X[-200:]\n",
    "    data_Y_test = data_Y[-200:]\n",
    "    \n",
    "    regr = linear_model.LinearRegression()\n",
    "    regr.fit(data_X_train, data_Y_train)\n",
    "\n",
    "    survived_pred = regr.predict(data_X_test)\n",
    "\n",
    "    # Càlculs:\n",
    "    MSE = mean_squared_error(data_Y_test, survived_pred)\n",
    "    acc = accuracy_score(data_Y_test, survived_pred.round())\n",
    "    cm = confusion_matrix(data_Y_test, survived_pred.round())\n",
    "    return(MSE, acc, cm, regr)\n",
    "\n",
    "data_X_m1 = data[[\"Pclass\", \"Sex\", \"Age\", \"Embarked\", \"Fare\"]]\n",
    "data_X_m2 = data[[\"Sex\", \"Age\", \"Fare\"]]\n",
    "data_X_m3 = data[[\"Sex\"]]\n",
    "data_Y = data[[\"Survived\"]]\n",
    "\n",
    "\n",
    "MSE1, acc1, cm1, regr1 = reg_lin(data_X_m1,data_Y)\n",
    "MSE2, acc2, cm2, regr2 = reg_lin(data_X_m2,data_Y)\n",
    "MSE3, acc3, cm3, regr3 = reg_lin(data_X_m3,data_Y)"
   ]
  },
  {
   "cell_type": "markdown",
   "metadata": {},
   "source": [
    "# 5. Representació dels resultats a partir de taules i gràfiques."
   ]
  },
  {
   "cell_type": "code",
   "execution_count": 20,
   "metadata": {},
   "outputs": [
    {
     "data": {
      "image/png": "[encoded data removed]",
      "text/plain": [
       "<Figure size 432x288 with 2 Axes>"
      ]
     },
     "metadata": {},
     "output_type": "display_data"
    }
   ],
   "source": [
    "# Correlació de les variables:\n",
    "fig = plt.figure()\n",
    "ax = fig.add_subplot(111)\n",
    "cax = ax.matshow(corr,cmap='coolwarm', vmin=-1, vmax=1)\n",
    "fig.colorbar(cax)\n",
    "ticks = np.arange(0,len(data.columns),1)\n",
    "ax.set_xticks(ticks)\n",
    "plt.xticks(rotation=90)\n",
    "ax.set_yticks(ticks)\n",
    "ax.set_xticklabels(data.columns)\n",
    "ax.set_yticklabels(data.columns)\n",
    "plt.show()"
   ]
  },
  {
   "cell_type": "code",
   "execution_count": 21,
   "metadata": {},
   "outputs": [
    {
     "data": {
      "image/png": "[encoded data removed]",
      "text/plain": [
       "<Figure size 432x288 with 2 Axes>"
      ]
     },
     "metadata": {},
     "output_type": "display_data"
    },
    {
     "name": "stdout",
     "output_type": "stream",
     "text": [
      "La taula amb els valors és la següent:\n",
      " [[109  17]\n",
      " [ 24  50]]\n"
     ]
    },
    {
     "data": {
      "image/png": "[encoded data removed]",
      "text/plain": [
       "<Figure size 432x288 with 2 Axes>"
      ]
     },
     "metadata": {},
     "output_type": "display_data"
    },
    {
     "name": "stdout",
     "output_type": "stream",
     "text": [
      "La taula amb els valors és la següent:\n",
      " [[110  16]\n",
      " [ 25  49]]\n"
     ]
    },
    {
     "data": {
      "image/png": "[encoded data removed]",
      "text/plain": [
       "<Figure size 432x288 with 2 Axes>"
      ]
     },
     "metadata": {},
     "output_type": "display_data"
    },
    {
     "name": "stdout",
     "output_type": "stream",
     "text": [
      "La taula amb els valors és la següent:\n",
      " [[110  16]\n",
      " [ 26  48]]\n"
     ]
    }
   ],
   "source": [
    "# Matrius de Confusió dels models:\n",
    "def representa_mtx(cm):\n",
    "    labels = ['MORTS', 'VIUS']\n",
    "    fig = plt.figure()\n",
    "    ax = fig.add_subplot(111)\n",
    "    cax = ax.matshow(cm)\n",
    "    plt.title(\"Matriu de confusió (vius, morts)\")\n",
    "    fig.colorbar(cax)\n",
    "    ax.set_xticklabels([''] + labels)\n",
    "    ax.set_yticklabels([''] + labels)\n",
    "    plt.xlabel('Predicció')\n",
    "    plt.ylabel('Real')\n",
    "    plt.show()\n",
    "    print(\"La taula amb els valors és la següent:\\n\",cm)\n",
    "\n",
    "representa_mtx(cm1)\n",
    "representa_mtx(cm2)\n",
    "representa_mtx(cm3)"
   ]
  },
  {
   "cell_type": "code",
   "execution_count": 22,
   "metadata": {},
   "outputs": [
    {
     "name": "stdout",
     "output_type": "stream",
     "text": [
      "MODEL 1:\n",
      "    Error quadràtic mig (MSE) = 0.1367640225295661 \n",
      "    Precissió = 0.795\n",
      "MODEL 2:\n",
      "    Error quadràtic mig (MSE) = 0.1540867313916442 \n",
      "    Precissió = 0.795\n",
      "MODEL 3:\n",
      "    Error quadràtic mig (MSE) = 0.1651998745924483 \n",
      "    Precissió = 0.79\n"
     ]
    }
   ],
   "source": [
    "# Valors de MES i precissió:\n",
    "print(\"MODEL 1:\\n    Error quadràtic mig (MSE) =\",MSE1,\"\\n    Precissió =\",acc1)\n",
    "print(\"MODEL 2:\\n    Error quadràtic mig (MSE) =\",MSE2,\"\\n    Precissió =\",acc2)\n",
    "print(\"MODEL 3:\\n    Error quadràtic mig (MSE) =\",MSE3,\"\\n    Precissió =\",acc3)"
   ]
  },
  {
   "cell_type": "markdown",
   "metadata": {},
   "source": [
    "## 6. Resolució del problema. A partir dels resultats obtinguts, quines són les conclusions? Els resultats permeten resoldre el problema?"
   ]
  },
  {
   "cell_type": "code",
   "execution_count": 23,
   "metadata": {},
   "outputs": [
    {
     "name": "stdout",
     "output_type": "stream",
     "text": [
      "El dataset conté: 418 registres\n",
      "La variable Sex conté 0 valors nuls\n",
      "La variable Age conté 86 valors nuls\n",
      "La variable Fare conté 1 valors nuls\n"
     ]
    }
   ],
   "source": [
    "# Càrrega del dataset.\n",
    "data_test= pd.read_csv(\"test_titanic.csv\")\n",
    "\n",
    "data_test_vars = data_test[[\"Sex\",\"Age\",\"Fare\"]]\n",
    "\n",
    "print (\"El dataset conté:\",len(data_test_vars),\"registres\")\n",
    "\n",
    "for var in data_test_vars:\n",
    "    print(\"La variable\",var,\"conté\",data_test_vars[var].isna().sum(),\"valors nuls\")"
   ]
  },
  {
   "cell_type": "code",
   "execution_count": 32,
   "metadata": {},
   "outputs": [
    {
     "name": "stderr",
     "output_type": "stream",
     "text": [
      "C:\\Users\\VilaGras\\Anaconda3\\lib\\site-packages\\pandas\\core\\generic.py:5430: SettingWithCopyWarning: \n",
      "A value is trying to be set on a copy of a slice from a DataFrame\n",
      "\n",
      "See the caveats in the documentation: http://pandas.pydata.org/pandas-docs/stable/indexing.html#indexing-view-versus-copy\n",
      "  self._update_inplace(new_data)\n"
     ]
    }
   ],
   "source": [
    "#### NETEJA\n",
    "# Reomplim els NA a partir de la mediana de les edats per Sexe.\n",
    "data_test_vars['Age'].fillna(data_test_vars.groupby('Sex')['Age'].transform(\"median\"), inplace=True)\n",
    "data_test_vars['Fare'].fillna(data_test_vars.groupby('Sex')['Fare'].transform(\"median\"), inplace=True)\n",
    "\n",
    "#### CONVERSIÓ\n",
    "#Conversió \"male\" - \"famale\" en enters:\n",
    "data_test_clean = data_test_vars.replace(\"female\",2)\n",
    "data_test_clean = data_test_clean.replace(\"male\", 1)\n",
    "# Conversió de \"Age\" a enters:\n",
    "data_test_clean[\"Age\"] = data_test_clean[\"Age\"].round().astype(int)"
   ]
  },
  {
   "cell_type": "code",
   "execution_count": 31,
   "metadata": {},
   "outputs": [
    {
     "name": "stdout",
     "output_type": "stream",
     "text": [
      "   PassengerId  Pclass                                          Name     Sex  \\\n",
      "0          892       3                              Kelly, Mr. James    male   \n",
      "1          893       3              Wilkes, Mrs. James (Ellen Needs)  female   \n",
      "2          894       2                     Myles, Mr. Thomas Francis    male   \n",
      "3          895       3                              Wirz, Mr. Albert    male   \n",
      "4          896       3  Hirvonen, Mrs. Alexander (Helga E Lindqvist)  female   \n",
      "5          897       3                    Svensson, Mr. Johan Cervin    male   \n",
      "6          898       3                          Connolly, Miss. Kate  female   \n",
      "7          899       2                  Caldwell, Mr. Albert Francis    male   \n",
      "8          900       3     Abrahim, Mrs. Joseph (Sophie Halaut Easu)  female   \n",
      "9          901       3                       Davies, Mr. John Samuel    male   \n",
      "\n",
      "    Age  SibSp  Parch     Ticket     Fare Cabin Embarked  Survived_PRED  \n",
      "0  34.5      0      0     330911   7.8292   NaN        Q            0.0  \n",
      "1  47.0      1      0     363272   7.0000   NaN        S            1.0  \n",
      "2  62.0      0      0     240276   9.6875   NaN        Q            0.0  \n",
      "3  27.0      0      0     315154   8.6625   NaN        S            0.0  \n",
      "4  22.0      1      1    3101298  12.2875   NaN        S            1.0  \n",
      "5  14.0      0      0       7538   9.2250   NaN        S            0.0  \n",
      "6  30.0      0      0     330972   7.6292   NaN        Q            1.0  \n",
      "7  26.0      1      1     248738  29.0000   NaN        S            0.0  \n",
      "8  18.0      0      0       2657   7.2292   NaN        C            1.0  \n",
      "9  21.0      2      0  A/4 48871  24.1500   NaN        S            0.0  \n",
      "En total moren 264 passatgers i sobreviuen 154 passatgers\n"
     ]
    }
   ],
   "source": [
    "pred = regr2.predict(data_test_clean)\n",
    "resultat = data_test.assign(Survived_PRED = pred.round())\n",
    "\n",
    "print(resultat[0:10])\n",
    "\n",
    "# Recompte de morts i supervivents.\n",
    "sumari = resultat[\"Survived_PRED\"].value_counts()\n",
    "print(\"En total moren\", sumari[0], \"passatgers i sobreviuen\", sumari[1],\"passatgers\")\n",
    "\n",
    "# Emmagatzemo\n",
    "resultat.to_csv(\"resultat.csv\")"
   ]
  },
  {
   "cell_type": "code",
   "execution_count": null,
   "metadata": {},
   "outputs": [],
   "source": []
  }
 ],
 "metadata": {
  "kernelspec": {
   "display_name": "Python 3",
   "language": "python",
   "name": "python3"
  },
  "language_info": {
   "codemirror_mode": {
    "name": "ipython",
    "version": 3
   },
   "file_extension": ".py",
   "mimetype": "text/x-python",
   "name": "python",
   "nbconvert_exporter": "python",
   "pygments_lexer": "ipython3",
   "version": "3.6.5"
  }
 },
 "nbformat": 4,
 "nbformat_minor": 2
}
